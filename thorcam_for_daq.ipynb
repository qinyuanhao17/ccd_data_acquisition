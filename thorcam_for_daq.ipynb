{
 "cells": [
  {
   "cell_type": "code",
   "execution_count": 1,
   "metadata": {},
   "outputs": [],
   "source": [
    "import pylablib as pll\n",
    "import cv2 as cv\n",
    "import numpy as np\n",
    "import time\n",
    "\n",
    "from pylablib.devices import Thorlabs"
   ]
  },
  {
   "cell_type": "code",
   "execution_count": 6,
   "metadata": {},
   "outputs": [
    {
     "data": {
      "text/plain": [
       "0.029991999999999998"
      ]
     },
     "execution_count": 6,
     "metadata": {},
     "output_type": "execute_result"
    }
   ],
   "source": [
    "cam = Thorlabs.ThorlabsTLCamera('22554')\n",
    "\n",
    "cam.set_exposure(3E-2)  # set 30ms exposure"
   ]
  },
  {
   "cell_type": "code",
   "execution_count": 16,
   "metadata": {},
   "outputs": [],
   "source": [
    "cam.start_acquisition()\n",
    "    \n",
    "frame_count = 1\n",
    "\n",
    "while True:\n",
    "    # print(frame_count)\n",
    "    rtn = cam.wait_for_frame(timeout=1)  # wait for the next available frame\n",
    "    \n",
    "    global frame\n",
    "    \n",
    "    frame=cam.read_oldest_image()  # get the oldest image which hasn't been read yet\n",
    "    frame_converter = np.zeros((frame.shape[0], frame.shape[1], 1), dtype=np.uint8)\n",
    "    frame_converter[:, :, 0] = frame\n",
    "    cv.imshow('Video', frame_converter)\n",
    "    if cv.waitKey(1) & 0xFF==ord('d'):\n",
    "        break\n",
    "\n",
    "    frame_count += 1\n",
    "\n",
    "cam.stop_acquisition()\n",
    "cv.destroyAllWindows()"
   ]
  },
  {
   "cell_type": "code",
   "execution_count": 21,
   "metadata": {},
   "outputs": [
    {
     "data": {
      "text/plain": [
       "-1"
      ]
     },
     "execution_count": 21,
     "metadata": {},
     "output_type": "execute_result"
    }
   ],
   "source": [
    "img = cam.snap()\n",
    "img_converter = np.zeros((img.shape[0], img.shape[1], 1), dtype=np.uint8)\n",
    "img_converter[:, :, 0] = img\n",
    "\n",
    "number = 2\n",
    "formatted_num = '{:04d}'.format(number)\n",
    "cv.imshow('Defocused Airy {}'.format(formatted_num), img_converter)\n",
    "cv.imwrite('./defocused_airy/{}.tif'.format(formatted_num),img_converter)\n",
    "cv.waitKey(0)"
   ]
  },
  {
   "cell_type": "code",
   "execution_count": 5,
   "metadata": {},
   "outputs": [],
   "source": [
    "cam.close()"
   ]
  }
 ],
 "metadata": {
  "kernelspec": {
   "display_name": "Python 3",
   "language": "python",
   "name": "python3"
  },
  "language_info": {
   "codemirror_mode": {
    "name": "ipython",
    "version": 3
   },
   "file_extension": ".py",
   "mimetype": "text/x-python",
   "name": "python",
   "nbconvert_exporter": "python",
   "pygments_lexer": "ipython3",
   "version": "3.9.16"
  },
  "orig_nbformat": 4
 },
 "nbformat": 4,
 "nbformat_minor": 2
}
