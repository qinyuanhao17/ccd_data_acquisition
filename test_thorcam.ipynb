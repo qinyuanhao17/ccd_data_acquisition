{
 "cells": [
  {
   "cell_type": "code",
   "execution_count": 5,
   "metadata": {},
   "outputs": [],
   "source": [
    "import cv2 as cv\n",
    "import time\n",
    "capture = cv.VideoCapture(0)\n",
    "\n",
    "from thorcam.camera import ThorCam\n",
    "class MyThorCam(ThorCam):\n",
    "    def received_camera_response(self, msg, value):\n",
    "        super(MyThorCam, self).received_camera_response(msg, value)\n",
    "        if msg == 'image':\n",
    "            return\n",
    "        print('Received \"{}\" with value \"{}\"'.format(msg, value))\n",
    "    def got_image(self, image, count, queued_count, t):\n",
    "        print('Received image \"{}\" with time \"{}\" and counts \"{}\", \"{}\"'\n",
    "              .format(image, t, count, queued_count))\n",
    "        return image"
   ]
  },
  {
   "cell_type": "code",
   "execution_count": 6,
   "metadata": {},
   "outputs": [],
   "source": [
    "cam = MyThorCam()\n",
    "cam.start_cam_process()\n",
    "rtn = cam.refresh_cameras()\n",
    "cam.open_camera('12823')"
   ]
  },
  {
   "cell_type": "code",
   "execution_count": 8,
   "metadata": {},
   "outputs": [
    {
     "name": "stdout",
     "output_type": "stream",
     "text": [
      "Received image \"<ffpyplayer.pic.Image object at 0x0000023C3FAB9F40>\" with time \"12.1146988\" and counts \"255\", \"1\"\n",
      "Received image \"<ffpyplayer.pic.Image object at 0x0000023C4440C240>\" with time \"12.1436628\" and counts \"256\", \"1\"\n",
      "Received image \"<ffpyplayer.pic.Image object at 0x0000023C4447FB80>\" with time \"12.1753565\" and counts \"257\", \"1\"\n",
      "Received image \"<ffpyplayer.pic.Image object at 0x0000023C4447C8C0>\" with time \"12.2013791\" and counts \"258\", \"1\"\n",
      "Received image \"<ffpyplayer.pic.Image object at 0x0000023C4447C040>\" with time \"12.2299432\" and counts \"259\", \"1\"\n"
     ]
    },
    {
     "name": "stdout",
     "output_type": "stream",
     "text": [
      "Received image \"<ffpyplayer.pic.Image object at 0x0000023C291E7780>\" with time \"12.2590233\" and counts \"260\", \"1\"\n",
      "Received image \"<ffpyplayer.pic.Image object at 0x0000023C3FAB1840>\" with time \"12.2891191\" and counts \"261\", \"1\"\n",
      "Received image \"<ffpyplayer.pic.Image object at 0x0000023C4447DE40>\" with time \"12.3165929\" and counts \"262\", \"1\"\n",
      "Received image \"<ffpyplayer.pic.Image object at 0x0000023C3FAB0D00>\" with time \"12.3458112\" and counts \"263\", \"1\"\n",
      "Received image \"<ffpyplayer.pic.Image object at 0x0000023C3FAB80C0>\" with time \"12.3742008\" and counts \"264\", \"1\"\n",
      "Received image \"<ffpyplayer.pic.Image object at 0x0000023C4447A2C0>\" with time \"12.403274\" and counts \"265\", \"1\"\n",
      "Received image \"<ffpyplayer.pic.Image object at 0x0000023C44475A80>\" with time \"12.4317867\" and counts \"266\", \"1\"\n",
      "Received image \"<ffpyplayer.pic.Image object at 0x0000023C44456080>\" with time \"12.4607206\" and counts \"267\", \"1\"\n",
      "Received image \"<ffpyplayer.pic.Image object at 0x0000023C44461100>\" with time \"12.4898415\" and counts \"268\", \"1\"\n",
      "Received image \"<ffpyplayer.pic.Image object at 0x0000023C444689C0>\" with time \"12.5262735\" and counts \"269\", \"1\"\n",
      "Received image \"<ffpyplayer.pic.Image object at 0x0000023C4447A880>\" with time \"12.5485824\" and counts \"270\", \"1\"\n",
      "Received image \"<ffpyplayer.pic.Image object at 0x0000023C4447A600>\" with time \"13.0949089\" and counts \"289\", \"1\"\n",
      "Received image \"<ffpyplayer.pic.Image object at 0x0000023C3FAB8340>\" with time \"13.1269086\" and counts \"290\", \"1\"\n",
      "Received image \"<ffpyplayer.pic.Image object at 0x0000023C4447D880>\" with time \"13.1523878\" and counts \"291\", \"1\"\n",
      "Received image \"<ffpyplayer.pic.Image object at 0x0000023C4447DBC0>\" with time \"13.1818553\" and counts \"292\", \"1\"\n",
      "Received image \"<ffpyplayer.pic.Image object at 0x0000023C3FAB1580>\" with time \"13.2100439\" and counts \"293\", \"1\"\n",
      "Received image \"<ffpyplayer.pic.Image object at 0x0000023C3FAB04C0>\" with time \"13.239261\" and counts \"294\", \"1\"\n",
      "Received image \"<ffpyplayer.pic.Image object at 0x0000023C4443AC40>\" with time \"13.2677363\" and counts \"295\", \"1\"\n",
      "Received image \"<ffpyplayer.pic.Image object at 0x0000023C27D88200>\" with time \"13.2974766\" and counts \"296\", \"1\"\n",
      "Received image \"<ffpyplayer.pic.Image object at 0x0000023C4447FCC0>\" with time \"13.3256883\" and counts \"297\", \"1\"\n",
      "Received image \"<ffpyplayer.pic.Image object at 0x0000023C44475FC0>\" with time \"13.354206\" and counts \"298\", \"1\"\n",
      "Received image \"<ffpyplayer.pic.Image object at 0x0000023C3FAB9BC0>\" with time \"13.3830308\" and counts \"299\", \"1\"\n",
      "Received image \"<ffpyplayer.pic.Image object at 0x0000023C4440C240>\" with time \"13.4122025\" and counts \"300\", \"1\"\n",
      "Received image \"<ffpyplayer.pic.Image object at 0x0000023C4447C680>\" with time \"13.4407871\" and counts \"301\", \"1\"\n",
      "Received image \"<ffpyplayer.pic.Image object at 0x0000023C4444C300>\" with time \"13.4700979\" and counts \"302\", \"1\"\n",
      "Received image \"<ffpyplayer.pic.Image object at 0x0000023C44395940>\" with time \"13.4983465\" and counts \"303\", \"1\"\n",
      "Received image \"<ffpyplayer.pic.Image object at 0x0000023C4444CC40>\" with time \"13.5279669\" and counts \"304\", \"1\"\n",
      "Received image \"<ffpyplayer.pic.Image object at 0x0000023C4444CC40>\" with time \"14.0748316\" and counts \"323\", \"1\"\n",
      "Received image \"<ffpyplayer.pic.Image object at 0x0000023C4440C400>\" with time \"14.1048468\" and counts \"324\", \"1\"\n",
      "Received image \"<ffpyplayer.pic.Image object at 0x0000023C44475A80>\" with time \"14.1327333\" and counts \"325\", \"1\"\n",
      "Received image \"<ffpyplayer.pic.Image object at 0x0000023C4447F740>\" with time \"14.1616976\" and counts \"326\", \"1\"\n",
      "Received image \"<ffpyplayer.pic.Image object at 0x0000023C29225780>\" with time \"14.1903071\" and counts \"327\", \"1\"\n",
      "Received image \"<ffpyplayer.pic.Image object at 0x0000023C44442F40>\" with time \"14.2197343\" and counts \"328\", \"1\"\n",
      "Received image \"<ffpyplayer.pic.Image object at 0x0000023C3FAB0180>\" with time \"14.2478396\" and counts \"329\", \"1\"\n",
      "Received image \"<ffpyplayer.pic.Image object at 0x0000023C3FAB18C0>\" with time \"14.276986\" and counts \"330\", \"1\"\n",
      "Received image \"<ffpyplayer.pic.Image object at 0x0000023C3FAB15C0>\" with time \"14.3058747\" and counts \"331\", \"1\"\n",
      "Received image \"<ffpyplayer.pic.Image object at 0x0000023C4447D3C0>\" with time \"14.3344083\" and counts \"332\", \"1\"\n",
      "Received image \"<ffpyplayer.pic.Image object at 0x0000023C4447A980>\" with time \"14.3631398\" and counts \"333\", \"1\"\n",
      "Received image \"<ffpyplayer.pic.Image object at 0x0000023C4447C5C0>\" with time \"14.3922069\" and counts \"334\", \"1\"\n",
      "Received image \"<ffpyplayer.pic.Image object at 0x0000023C3FAB9DC0>\" with time \"14.4207645\" and counts \"335\", \"1\"\n",
      "Received image \"<ffpyplayer.pic.Image object at 0x0000023C3FAB8980>\" with time \"14.4508487\" and counts \"336\", \"1\"\n",
      "Received image \"<ffpyplayer.pic.Image object at 0x0000023C44449A00>\" with time \"14.4789048\" and counts \"337\", \"1\"\n",
      "Received image \"<ffpyplayer.pic.Image object at 0x0000023C44468C00>\" with time \"14.5079673\" and counts \"338\", \"1\"\n",
      "Received image \"<ffpyplayer.pic.Image object at 0x0000023C3FABAAC0>\" with time \"15.0550499\" and counts \"357\", \"1\"\n",
      "Received image \"<ffpyplayer.pic.Image object at 0x0000023C444215C0>\" with time \"15.0841228\" and counts \"358\", \"1\"\n",
      "Received image \"<ffpyplayer.pic.Image object at 0x0000023C3FAB8980>\" with time \"15.1126502\" and counts \"359\", \"1\"\n",
      "Received image \"<ffpyplayer.pic.Image object at 0x0000023C3FAB9540>\" with time \"15.1416962\" and counts \"360\", \"1\"\n",
      "Received image \"<ffpyplayer.pic.Image object at 0x0000023C44450B80>\" with time \"15.1702711\" and counts \"361\", \"1\"\n",
      "Received image \"<ffpyplayer.pic.Image object at 0x0000023C4447C980>\" with time \"15.1992759\" and counts \"362\", \"1\"\n",
      "Received image \"<ffpyplayer.pic.Image object at 0x0000023C4447A6C0>\" with time \"15.2281656\" and counts \"363\", \"1\"\n",
      "Received image \"<ffpyplayer.pic.Image object at 0x0000023C4447D800>\" with time \"15.2574048\" and counts \"364\", \"1\"\n",
      "Received image \"<ffpyplayer.pic.Image object at 0x0000023C27DB0300>\" with time \"15.2860205\" and counts \"365\", \"1\"\n",
      "Received image \"<ffpyplayer.pic.Image object at 0x0000023C3FAB1600>\" with time \"15.3144547\" and counts \"366\", \"1\"\n",
      "Received image \"<ffpyplayer.pic.Image object at 0x0000023C3FAB0480>\" with time \"15.3432552\" and counts \"367\", \"1\"\n",
      "Received image \"<ffpyplayer.pic.Image object at 0x0000023C4446F980>\" with time \"15.3724098\" and counts \"368\", \"1\"\n",
      "Received image \"<ffpyplayer.pic.Image object at 0x0000023C4447FB00>\" with time \"15.4009284\" and counts \"369\", \"1\"\n",
      "Received image \"<ffpyplayer.pic.Image object at 0x0000023C291EF480>\" with time \"15.4296958\" and counts \"370\", \"1\"\n",
      "Received image \"<ffpyplayer.pic.Image object at 0x0000023C4440C400>\" with time \"15.4587749\" and counts \"371\", \"1\"\n",
      "Received image \"<ffpyplayer.pic.Image object at 0x0000023C27DC3240>\" with time \"15.493173\" and counts \"372\", \"1\"\n"
     ]
    }
   ],
   "source": [
    "cam.play_camera()\n",
    "# # time.sleep(0.1)\n",
    "# while True:\n",
    "    \n",
    "#     cv.imshow('Camera', image)\n",
    "#     if cv.waitKey(50) & 0xFF==ord('d'):\n",
    "#         break\n",
    "\n",
    "# capture.release()\n",
    "# cv.destroyAllWindows()\n",
    "\n"
   ]
  },
  {
   "cell_type": "code",
   "execution_count": 9,
   "metadata": {},
   "outputs": [
    {
     "name": "stdout",
     "output_type": "stream",
     "text": [
      "Received \"playing\" with value \"False\"\n"
     ]
    }
   ],
   "source": [
    "cam.stop_playing_camera()"
   ]
  },
  {
   "cell_type": "code",
   "execution_count": 10,
   "metadata": {},
   "outputs": [
    {
     "data": {
      "text/plain": [
       "False"
      ]
     },
     "execution_count": 10,
     "metadata": {},
     "output_type": "execute_result"
    }
   ],
   "source": [
    "cam.close_camera()\n",
    "cam.stop_cam_process(join=True)"
   ]
  }
 ],
 "metadata": {
  "kernelspec": {
   "display_name": "Python 3",
   "language": "python",
   "name": "python3"
  },
  "language_info": {
   "codemirror_mode": {
    "name": "ipython",
    "version": 3
   },
   "file_extension": ".py",
   "mimetype": "text/x-python",
   "name": "python",
   "nbconvert_exporter": "python",
   "pygments_lexer": "ipython3",
   "version": "3.9.16"
  },
  "orig_nbformat": 4
 },
 "nbformat": 4,
 "nbformat_minor": 2
}
